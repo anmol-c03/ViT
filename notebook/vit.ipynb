{
 "cells": [
  {
   "cell_type": "code",
   "execution_count": 2,
   "metadata": {},
   "outputs": [],
   "source": [
    "import torch\n",
    "import torch.nn as nn\n",
    "from torchvision import transforms\n",
    "from transformers import ViTForImageClassification,ViTConfig\n",
    "from dataclasses import dataclass\n",
    "import math"
   ]
  },
  {
   "cell_type": "code",
   "execution_count": 3,
   "metadata": {},
   "outputs": [],
   "source": [
    "model= ViTForImageClassification.from_pretrained(\"google/vit-base-patch16-224\") #finetuned on imagenet"
   ]
  },
  {
   "cell_type": "code",
   "execution_count": 126,
   "metadata": {},
   "outputs": [],
   "source": [
    "model_hf_1=model.state_dict()"
   ]
  },
  {
   "cell_type": "code",
   "execution_count": 69,
   "metadata": {},
   "outputs": [
    {
     "name": "stdout",
     "output_type": "stream",
     "text": [
      "ViTConfig {\n",
      "  \"attention_probs_dropout_prob\": 0.0,\n",
      "  \"encoder_stride\": 16,\n",
      "  \"hidden_act\": \"gelu\",\n",
      "  \"hidden_dropout_prob\": 0.0,\n",
      "  \"hidden_size\": 768,\n",
      "  \"image_size\": 224,\n",
      "  \"initializer_range\": 0.02,\n",
      "  \"intermediate_size\": 3072,\n",
      "  \"layer_norm_eps\": 1e-12,\n",
      "  \"model_type\": \"vit\",\n",
      "  \"num_attention_heads\": 12,\n",
      "  \"num_channels\": 3,\n",
      "  \"num_hidden_layers\": 12,\n",
      "  \"patch_size\": 16,\n",
      "  \"qkv_bias\": true,\n",
      "  \"transformers_version\": \"4.41.0\"\n",
      "}\n",
      "\n"
     ]
    }
   ],
   "source": [
    "conf=ViTConfig()\n",
    "print(conf)"
   ]
  },
  {
   "cell_type": "code",
   "execution_count": 12,
   "metadata": {},
   "outputs": [],
   "source": [
    "@dataclass\n",
    "class ViT_Config():\n",
    "    image_size = 224\n",
    "    patch_size = 16\n",
    "    embed_dim=768\n",
    "    ff_dim=768*4 \n",
    "    num_heads=12\n",
    "    layers=12\n",
    "\n",
    "conf=ViT_Config()"
   ]
  },
  {
   "cell_type": "code",
   "execution_count": 120,
   "metadata": {},
   "outputs": [
    {
     "name": "stdout",
     "output_type": "stream",
     "text": [
      "200\n"
     ]
    }
   ],
   "source": [
    "x=0\n",
    "for k,v in model_hf.items():\n",
    "    x=x+1\n",
    "print(x)"
   ]
  },
  {
   "cell_type": "code",
   "execution_count": 6,
   "metadata": {},
   "outputs": [],
   "source": [
    "import torch\n",
    "import torch.nn as nn\n",
    "\n",
    "#torch gelu is different\n",
    "class NewGELU(nn.Module):\n",
    "    def forward(self, x):\n",
    "        return 0.5 * x * (1.0 + torch.tanh(math.sqrt(2.0 / math.pi) * (x + 0.044715 * torch.pow(x, 3.0))))"
   ]
  },
  {
   "cell_type": "code",
   "execution_count": 13,
   "metadata": {},
   "outputs": [],
   "source": [
    "class MLP(nn.Module):\n",
    "    def __init__(self,config):\n",
    "        super().__init__()\n",
    "        self.c_fc    = nn.Linear(config.n_embd, 4 * config.n_embd)\n",
    "        self.gelu    = nn.GELU(approximate='tanh')\n",
    "        self.c_proj  = nn.Linear(4 * config.n_embd, config.n_embd)\n",
    "    def forward(self,x):\n",
    "        x=self.c_fc(x)\n",
    "        x=self.gelu(x)\n",
    "        x=self.c_proj(x)\n",
    "        # self.out=self.dropout(x)\n",
    "        return x"
   ]
  },
  {
   "cell_type": "code",
   "execution_count": 14,
   "metadata": {},
   "outputs": [],
   "source": [
    "class NewGELU(nn.Module):\n",
    "    def forward(self, x):\n",
    "        return 0.5 * x * (1.0 + torch.tanh(math.sqrt(2.0 / math.pi) * (x + 0.044715 * torch.pow(x, 3.0))))\n",
    "\n",
    "#minor changes from the gpt version\n",
    "class TransformerBlock(nn.Module):\n",
    "    def __init__(self, max_length, embed_dim, ff_dim, num_heads, dropout=0.1):\n",
    "\n",
    "        super(TransformerBlock, self).__init__()\n",
    "        assert embed_dim % num_heads == 0, \"embed_dim must be divisble by num_heads\"\n",
    "\n",
    "        self.max_length = max_length\n",
    "        self.embed_dim = embed_dim\n",
    "        self.ff_dim = ff_dim\n",
    "        self.num_heads = num_heads\n",
    "        self.dp = dropout\n",
    "\n",
    "        #derv:\n",
    "        self.head_size = self.embed_dim // self.num_heads\n",
    "\n",
    "        #attention blocks\n",
    "        self.query = nn.Linear(self.embed_dim, self.embed_dim)\n",
    "        self.key = nn.Linear(self.embed_dim, self.embed_dim)\n",
    "        self.value = nn.Linear(self.embed_dim, self.embed_dim)\n",
    "        self.c_proj = nn.Linear(self.embed_dim, self.embed_dim)\n",
    "\n",
    "        #feedforward blocks\n",
    "        self.mlpf = MLP(conf)\n",
    "        \n",
    "        #after attn and ff blocks\n",
    "        self.dropout = nn.Dropout(self.dp, inplace=True)\n",
    "\n",
    "        #depends\n",
    "        self.ln1 = nn.LayerNorm(self.embed_dim)\n",
    "        self.ln2 = nn.LayerNorm(self.embed_dim)\n",
    "\n",
    "    def attn(self, x):\n",
    "\n",
    "        batch_size, seq_length = x.shape[:2]\n",
    "\n",
    "        Q = self.query(x)\n",
    "        K = self.key(x)\n",
    "        V = self.value(x)\n",
    "        # import code;code.interact(local=locals())\n",
    "\n",
    "        Q = Q.view(batch_size, -1, self.num_heads, self.head_size).permute(0, 2, 1, 3)\n",
    "        K = K.view(batch_size, -1, self.num_heads, self.head_size).permute(0, 2, 1, 3)\n",
    "        V = V.view(batch_size, -1, self.num_heads, self.head_size).permute(0, 2, 1, 3)\n",
    "        # import code;code.interact(local=locals())\n",
    "\n",
    "        att = torch.einsum('bhqd,bhkd->bhqk', [Q, K])/(self.head_size ** 0.5) #scaled dot produt attention\n",
    "        att = F.softmax(att, dim=-1)\n",
    "\n",
    "        out = torch.einsum('bhal,bhlv->bhav', [att, V]).permute(0,2,1,3).contiguous()\n",
    "        out = out.view(batch_size, -1, self.num_heads * self.head_size)\n",
    "        out = self.dropout(self.c_proj(out)) #projection after attending to tokens\n",
    "        return out\n",
    "    \n"
   ]
  },
  {
   "cell_type": "code",
   "execution_count": null,
   "metadata": {},
   "outputs": [],
   "source": []
  }
 ],
 "metadata": {
  "kernelspec": {
   "display_name": "Python 3",
   "language": "python",
   "name": "python3"
  },
  "language_info": {
   "codemirror_mode": {
    "name": "ipython",
    "version": 3
   },
   "file_extension": ".py",
   "mimetype": "text/x-python",
   "name": "python",
   "nbconvert_exporter": "python",
   "pygments_lexer": "ipython3",
   "version": "3.11.2"
  }
 },
 "nbformat": 4,
 "nbformat_minor": 2
}
